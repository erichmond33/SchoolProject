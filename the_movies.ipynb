{
 "cells": [
  {
   "cell_type": "code",
   "execution_count": 1,
   "metadata": {},
   "outputs": [],
   "source": [
    "import numpy as np\n",
    "import pandas as pd\n",
    "import matplotlib.pyplot as plt\n",
    "import seaborn as sns\n",
    "from scipy import stats\n",
    "pearsonr = stats.pearsonr\n",
    "\n",
    "# Set the seed to 42\n",
    "np.random.seed(42)"
   ]
  },
  {
   "cell_type": "code",
   "execution_count": 2,
   "metadata": {},
   "outputs": [
    {
     "name": "stderr",
     "output_type": "stream",
     "text": [
      "/var/folders/ln/j2mkfdns4dxfkp1xwg6d5k7c0000gn/T/ipykernel_1424/1527773947.py:1: DtypeWarning: Columns (10) have mixed types. Specify dtype option on import or set low_memory=False.\n",
      "  movies = pd.read_csv(\"./the-movies-dataset/movies_metadata.csv\")\n"
     ]
    },
    {
     "data": {
      "text/html": [
       "<div>\n",
       "<style scoped>\n",
       "    .dataframe tbody tr th:only-of-type {\n",
       "        vertical-align: middle;\n",
       "    }\n",
       "\n",
       "    .dataframe tbody tr th {\n",
       "        vertical-align: top;\n",
       "    }\n",
       "\n",
       "    .dataframe thead th {\n",
       "        text-align: right;\n",
       "    }\n",
       "</style>\n",
       "<table border=\"1\" class=\"dataframe\">\n",
       "  <thead>\n",
       "    <tr style=\"text-align: right;\">\n",
       "      <th></th>\n",
       "      <th>adult</th>\n",
       "      <th>belongs_to_collection</th>\n",
       "      <th>budget</th>\n",
       "      <th>genres</th>\n",
       "      <th>homepage</th>\n",
       "      <th>id</th>\n",
       "      <th>imdb_id</th>\n",
       "      <th>original_language</th>\n",
       "      <th>original_title</th>\n",
       "      <th>overview</th>\n",
       "      <th>...</th>\n",
       "      <th>release_date</th>\n",
       "      <th>revenue</th>\n",
       "      <th>runtime</th>\n",
       "      <th>spoken_languages</th>\n",
       "      <th>status</th>\n",
       "      <th>tagline</th>\n",
       "      <th>title</th>\n",
       "      <th>video</th>\n",
       "      <th>vote_average</th>\n",
       "      <th>vote_count</th>\n",
       "    </tr>\n",
       "  </thead>\n",
       "  <tbody>\n",
       "    <tr>\n",
       "      <th>0</th>\n",
       "      <td>False</td>\n",
       "      <td>{'id': 10194, 'name': 'Toy Story Collection', ...</td>\n",
       "      <td>30000000</td>\n",
       "      <td>[{'id': 16, 'name': 'Animation'}, {'id': 35, '...</td>\n",
       "      <td>http://toystory.disney.com/toy-story</td>\n",
       "      <td>862</td>\n",
       "      <td>tt0114709</td>\n",
       "      <td>en</td>\n",
       "      <td>Toy Story</td>\n",
       "      <td>Led by Woody, Andy's toys live happily in his ...</td>\n",
       "      <td>...</td>\n",
       "      <td>1995-10-30</td>\n",
       "      <td>373554033.0</td>\n",
       "      <td>81.0</td>\n",
       "      <td>[{'iso_639_1': 'en', 'name': 'English'}]</td>\n",
       "      <td>Released</td>\n",
       "      <td>NaN</td>\n",
       "      <td>Toy Story</td>\n",
       "      <td>False</td>\n",
       "      <td>7.7</td>\n",
       "      <td>5415.0</td>\n",
       "    </tr>\n",
       "    <tr>\n",
       "      <th>1</th>\n",
       "      <td>False</td>\n",
       "      <td>NaN</td>\n",
       "      <td>65000000</td>\n",
       "      <td>[{'id': 12, 'name': 'Adventure'}, {'id': 14, '...</td>\n",
       "      <td>NaN</td>\n",
       "      <td>8844</td>\n",
       "      <td>tt0113497</td>\n",
       "      <td>en</td>\n",
       "      <td>Jumanji</td>\n",
       "      <td>When siblings Judy and Peter discover an encha...</td>\n",
       "      <td>...</td>\n",
       "      <td>1995-12-15</td>\n",
       "      <td>262797249.0</td>\n",
       "      <td>104.0</td>\n",
       "      <td>[{'iso_639_1': 'en', 'name': 'English'}, {'iso...</td>\n",
       "      <td>Released</td>\n",
       "      <td>Roll the dice and unleash the excitement!</td>\n",
       "      <td>Jumanji</td>\n",
       "      <td>False</td>\n",
       "      <td>6.9</td>\n",
       "      <td>2413.0</td>\n",
       "    </tr>\n",
       "    <tr>\n",
       "      <th>2</th>\n",
       "      <td>False</td>\n",
       "      <td>{'id': 119050, 'name': 'Grumpy Old Men Collect...</td>\n",
       "      <td>0</td>\n",
       "      <td>[{'id': 10749, 'name': 'Romance'}, {'id': 35, ...</td>\n",
       "      <td>NaN</td>\n",
       "      <td>15602</td>\n",
       "      <td>tt0113228</td>\n",
       "      <td>en</td>\n",
       "      <td>Grumpier Old Men</td>\n",
       "      <td>A family wedding reignites the ancient feud be...</td>\n",
       "      <td>...</td>\n",
       "      <td>1995-12-22</td>\n",
       "      <td>0.0</td>\n",
       "      <td>101.0</td>\n",
       "      <td>[{'iso_639_1': 'en', 'name': 'English'}]</td>\n",
       "      <td>Released</td>\n",
       "      <td>Still Yelling. Still Fighting. Still Ready for...</td>\n",
       "      <td>Grumpier Old Men</td>\n",
       "      <td>False</td>\n",
       "      <td>6.5</td>\n",
       "      <td>92.0</td>\n",
       "    </tr>\n",
       "    <tr>\n",
       "      <th>3</th>\n",
       "      <td>False</td>\n",
       "      <td>NaN</td>\n",
       "      <td>16000000</td>\n",
       "      <td>[{'id': 35, 'name': 'Comedy'}, {'id': 18, 'nam...</td>\n",
       "      <td>NaN</td>\n",
       "      <td>31357</td>\n",
       "      <td>tt0114885</td>\n",
       "      <td>en</td>\n",
       "      <td>Waiting to Exhale</td>\n",
       "      <td>Cheated on, mistreated and stepped on, the wom...</td>\n",
       "      <td>...</td>\n",
       "      <td>1995-12-22</td>\n",
       "      <td>81452156.0</td>\n",
       "      <td>127.0</td>\n",
       "      <td>[{'iso_639_1': 'en', 'name': 'English'}]</td>\n",
       "      <td>Released</td>\n",
       "      <td>Friends are the people who let you be yourself...</td>\n",
       "      <td>Waiting to Exhale</td>\n",
       "      <td>False</td>\n",
       "      <td>6.1</td>\n",
       "      <td>34.0</td>\n",
       "    </tr>\n",
       "    <tr>\n",
       "      <th>4</th>\n",
       "      <td>False</td>\n",
       "      <td>{'id': 96871, 'name': 'Father of the Bride Col...</td>\n",
       "      <td>0</td>\n",
       "      <td>[{'id': 35, 'name': 'Comedy'}]</td>\n",
       "      <td>NaN</td>\n",
       "      <td>11862</td>\n",
       "      <td>tt0113041</td>\n",
       "      <td>en</td>\n",
       "      <td>Father of the Bride Part II</td>\n",
       "      <td>Just when George Banks has recovered from his ...</td>\n",
       "      <td>...</td>\n",
       "      <td>1995-02-10</td>\n",
       "      <td>76578911.0</td>\n",
       "      <td>106.0</td>\n",
       "      <td>[{'iso_639_1': 'en', 'name': 'English'}]</td>\n",
       "      <td>Released</td>\n",
       "      <td>Just When His World Is Back To Normal... He's ...</td>\n",
       "      <td>Father of the Bride Part II</td>\n",
       "      <td>False</td>\n",
       "      <td>5.7</td>\n",
       "      <td>173.0</td>\n",
       "    </tr>\n",
       "  </tbody>\n",
       "</table>\n",
       "<p>5 rows × 24 columns</p>\n",
       "</div>"
      ],
      "text/plain": [
       "   adult                              belongs_to_collection    budget  \\\n",
       "0  False  {'id': 10194, 'name': 'Toy Story Collection', ...  30000000   \n",
       "1  False                                                NaN  65000000   \n",
       "2  False  {'id': 119050, 'name': 'Grumpy Old Men Collect...         0   \n",
       "3  False                                                NaN  16000000   \n",
       "4  False  {'id': 96871, 'name': 'Father of the Bride Col...         0   \n",
       "\n",
       "                                              genres  \\\n",
       "0  [{'id': 16, 'name': 'Animation'}, {'id': 35, '...   \n",
       "1  [{'id': 12, 'name': 'Adventure'}, {'id': 14, '...   \n",
       "2  [{'id': 10749, 'name': 'Romance'}, {'id': 35, ...   \n",
       "3  [{'id': 35, 'name': 'Comedy'}, {'id': 18, 'nam...   \n",
       "4                     [{'id': 35, 'name': 'Comedy'}]   \n",
       "\n",
       "                               homepage     id    imdb_id original_language  \\\n",
       "0  http://toystory.disney.com/toy-story    862  tt0114709                en   \n",
       "1                                   NaN   8844  tt0113497                en   \n",
       "2                                   NaN  15602  tt0113228                en   \n",
       "3                                   NaN  31357  tt0114885                en   \n",
       "4                                   NaN  11862  tt0113041                en   \n",
       "\n",
       "                original_title  \\\n",
       "0                    Toy Story   \n",
       "1                      Jumanji   \n",
       "2             Grumpier Old Men   \n",
       "3            Waiting to Exhale   \n",
       "4  Father of the Bride Part II   \n",
       "\n",
       "                                            overview  ... release_date  \\\n",
       "0  Led by Woody, Andy's toys live happily in his ...  ...   1995-10-30   \n",
       "1  When siblings Judy and Peter discover an encha...  ...   1995-12-15   \n",
       "2  A family wedding reignites the ancient feud be...  ...   1995-12-22   \n",
       "3  Cheated on, mistreated and stepped on, the wom...  ...   1995-12-22   \n",
       "4  Just when George Banks has recovered from his ...  ...   1995-02-10   \n",
       "\n",
       "       revenue runtime                                   spoken_languages  \\\n",
       "0  373554033.0    81.0           [{'iso_639_1': 'en', 'name': 'English'}]   \n",
       "1  262797249.0   104.0  [{'iso_639_1': 'en', 'name': 'English'}, {'iso...   \n",
       "2          0.0   101.0           [{'iso_639_1': 'en', 'name': 'English'}]   \n",
       "3   81452156.0   127.0           [{'iso_639_1': 'en', 'name': 'English'}]   \n",
       "4   76578911.0   106.0           [{'iso_639_1': 'en', 'name': 'English'}]   \n",
       "\n",
       "     status                                            tagline  \\\n",
       "0  Released                                                NaN   \n",
       "1  Released          Roll the dice and unleash the excitement!   \n",
       "2  Released  Still Yelling. Still Fighting. Still Ready for...   \n",
       "3  Released  Friends are the people who let you be yourself...   \n",
       "4  Released  Just When His World Is Back To Normal... He's ...   \n",
       "\n",
       "                         title  video vote_average vote_count  \n",
       "0                    Toy Story  False          7.7     5415.0  \n",
       "1                      Jumanji  False          6.9     2413.0  \n",
       "2             Grumpier Old Men  False          6.5       92.0  \n",
       "3            Waiting to Exhale  False          6.1       34.0  \n",
       "4  Father of the Bride Part II  False          5.7      173.0  \n",
       "\n",
       "[5 rows x 24 columns]"
      ]
     },
     "execution_count": 2,
     "metadata": {},
     "output_type": "execute_result"
    }
   ],
   "source": [
    "movies = pd.read_csv(\"./the-movies-dataset/movies_metadata.csv\")\n",
    "movies.head()"
   ]
  },
  {
   "cell_type": "code",
   "execution_count": 3,
   "metadata": {},
   "outputs": [
    {
     "name": "stdout",
     "output_type": "stream",
     "text": [
      "9    11\n",
      "Name: release_date, dtype: int64\n",
      "9    [{'id': 12, 'name': 'Adventure'}, {'id': 28, '...\n",
      "Name: genres, dtype: object\n",
      "9    58000000\n",
      "Name: budget, dtype: int64\n",
      "9    130\n",
      "Name: runtime, dtype: int64\n"
     ]
    }
   ],
   "source": [
    "# Drop null values\n",
    "movies.dropna(inplace=True)\n",
    "\n",
    "# Convert the variables into int/float dtypes\n",
    "movies['release_date'] = pd.to_datetime(movies['release_date'], errors='coerce').dt.month\n",
    "movies['budget'] = movies['budget'].astype(int)\n",
    "movies['runtime'] = movies['runtime'].astype(int)\n",
    "movies['popularity'] = movies['popularity'].astype(float)\n",
    "\n",
    "# print one of each\n",
    "print(movies['release_date'].head(1))\n",
    "print(movies['genres'].head(1))\n",
    "print(movies['budget'].head(1))\n",
    "print(movies['runtime'].head(1))"
   ]
  },
  {
   "cell_type": "code",
   "execution_count": 4,
   "metadata": {},
   "outputs": [
    {
     "name": "stdout",
     "output_type": "stream",
     "text": [
      "Significance level (α): 0.05\n",
      "\n",
      "Correlation Matrix with p-values:\n",
      "              popularity  release_date   runtime    budget   revenue\n",
      "popularity      1.000000     -0.009426  0.162796  0.288269  0.423807\n",
      "release_date   -0.009426      1.000000  0.011873 -0.016768  0.018981\n",
      "runtime         0.162796      0.011873  1.000000  0.381383  0.386119\n",
      "budget          0.288269     -0.016768  0.381383  1.000000  0.807194\n",
      "revenue         0.423807      0.018981  0.386119  0.807194  1.000000\n",
      "\n",
      "P-values:\n",
      "              release_date       runtime         budget        revenue  \\\n",
      "popularity        0.804364  1.657670e-05   9.953980e-15   1.398373e-31   \n",
      "release_date           NaN  7.550313e-01   6.594661e-01   6.179058e-01   \n",
      "runtime           0.755031           NaN   2.050530e-25   4.644525e-26   \n",
      "budget            0.659466  2.050530e-25            NaN  2.393979e-160   \n",
      "revenue           0.617906  4.644525e-26  2.393979e-160            NaN   \n",
      "\n",
      "                popularity  \n",
      "popularity             NaN  \n",
      "release_date  8.043638e-01  \n",
      "runtime       1.657670e-05  \n",
      "budget        9.953980e-15  \n",
      "revenue       1.398373e-31  \n"
     ]
    },
    {
     "data": {
      "image/png": "[encoded data removed]",
      "text/plain": [
       "<Figure size 432x288 with 2 Axes>"
      ]
     },
     "metadata": {
      "needs_background": "light"
     },
     "output_type": "display_data"
    }
   ],
   "source": [
    "# Set significance level (α)\n",
    "alpha = 0.05\n",
    "\n",
    "# Get the correlations\n",
    "correlation_matrix = movies[['popularity', 'release_date', 'runtime', 'budget', 'revenue']].corr()\n",
    "\n",
    "# Calculate p-values\n",
    "p_values = pd.DataFrame() # Create a DataFrame to store p-values\n",
    "for column1 in correlation_matrix.columns:\n",
    "    for column2 in correlation_matrix.columns:\n",
    "        if column1 != column2:\n",
    "            p_values.loc[column1, column2] = pearsonr(movies[column1], movies[column2])[1]\n",
    "\n",
    "# Print α\n",
    "print(\"Significance level (α):\", alpha)\n",
    "\n",
    "# Print correlation matrix with p-values and significance levels\n",
    "print(\"\\nCorrelation Matrix with p-values:\")\n",
    "print(correlation_matrix)\n",
    "print(\"\\nP-values:\")\n",
    "print(p_values)\n",
    "\n",
    "# Plot heatmap\n",
    "sns.heatmap(correlation_matrix, annot=True, cmap='coolwarm', fmt=\".2f\")\n",
    "plt.title('Correlation Matrix Heatmap')\n",
    "plt.show()"
   ]
  },
  {
   "cell_type": "code",
   "execution_count": 5,
   "metadata": {},
   "outputs": [
    {
     "data": {
      "image/png": "[encoded data removed]",
      "text/plain": [
       "<Figure size 432x288 with 1 Axes>"
      ]
     },
     "metadata": {
      "needs_background": "light"
     },
     "output_type": "display_data"
    },
    {
     "data": {
      "image/png": "[encoded data removed]",
      "text/plain": [
       "<Figure size 432x288 with 1 Axes>"
      ]
     },
     "metadata": {
      "needs_background": "light"
     },
     "output_type": "display_data"
    },
    {
     "data": {
      "image/png": "[encoded data removed]",
      "text/plain": [
       "<Figure size 432x288 with 1 Axes>"
      ]
     },
     "metadata": {
      "needs_background": "light"
     },
     "output_type": "display_data"
    },
    {
     "data": {
      "image/png": "[encoded data removed]",
      "text/plain": [
       "<Figure size 432x288 with 1 Axes>"
      ]
     },
     "metadata": {
      "needs_background": "light"
     },
     "output_type": "display_data"
    }
   ],
   "source": [
    "# Scatter plots\n",
    "plt.scatter(movies['budget'], movies['revenue'])\n",
    "plt.xlabel(\"Budget\")\n",
    "plt.ylabel(\"Revenue\")\n",
    "plt.title(\"Budget vs Revenue\")\n",
    "plt.show()\n",
    "\n",
    "plt.scatter(movies['runtime'], movies['revenue'])\n",
    "plt.xlabel(\"Runtime\")\n",
    "plt.ylabel(\"Revenue\")\n",
    "plt.title(\"Runtime vs Revenue\")\n",
    "plt.show()\n",
    "\n",
    "plt.scatter(movies['release_date'], movies['revenue'])\n",
    "plt.xlabel(\"Release Date\")\n",
    "plt.ylabel(\"Revenue\")\n",
    "plt.title(\"Release Date vs Revenue\")\n",
    "plt.show()\n",
    "\n",
    "plt.scatter(movies['popularity'], movies['revenue'])\n",
    "plt.xlabel(\"Popularity\")\n",
    "plt.ylabel(\"Revenue\")\n",
    "plt.title(\"Popularity vs Revenue\")\n",
    "plt.show()\n"
   ]
  },
  {
   "cell_type": "code",
   "execution_count": 6,
   "metadata": {},
   "outputs": [
    {
     "name": "stdout",
     "output_type": "stream",
     "text": [
      "Metal device set to: Apple M1\n",
      "\n",
      "systemMemory: 16.00 GB\n",
      "maxCacheSize: 5.33 GB\n",
      "\n",
      "Epoch 1/25\n"
     ]
    },
    {
     "name": "stderr",
     "output_type": "stream",
     "text": [
      "2024-04-06 09:30:22.709275: I tensorflow/core/common_runtime/pluggable_device/pluggable_device_factory.cc:305] Could not identify NUMA node of platform GPU ID 0, defaulting to 0. Your kernel may not have been built with NUMA support.\n",
      "2024-04-06 09:30:22.709382: I tensorflow/core/common_runtime/pluggable_device/pluggable_device_factory.cc:271] Created TensorFlow device (/job:localhost/replica:0/task:0/device:GPU:0 with 0 MB memory) -> physical PluggableDevice (device: 0, name: METAL, pci bus id: <undefined>)\n",
      "2024-04-06 09:30:22.850353: W tensorflow/core/platform/profile_utils/cpu_utils.cc:128] Failed to get CPU frequency: 0 Hz\n",
      "2024-04-06 09:30:23.019344: I tensorflow/core/grappler/optimizers/custom_graph_optimizer_registry.cc:113] Plugin optimizer for device_type GPU is enabled.\n"
     ]
    },
    {
     "name": "stdout",
     "output_type": "stream",
     "text": [
      "18/18 [==============================] - 1s 12ms/step - loss: 166269110424961024.0000\n",
      "Epoch 2/25\n",
      "18/18 [==============================] - 0s 6ms/step - loss: 145931237687558144.0000\n",
      "Epoch 3/25\n",
      "18/18 [==============================] - 0s 6ms/step - loss: 122449594918371328.0000\n",
      "Epoch 4/25\n",
      "18/18 [==============================] - 0s 7ms/step - loss: 100194672118333440.0000\n",
      "Epoch 5/25\n",
      "18/18 [==============================] - 0s 6ms/step - loss: 74704762771079168.0000\n",
      "Epoch 6/25\n",
      "18/18 [==============================] - 0s 6ms/step - loss: 56644274967543808.0000\n",
      "Epoch 7/25\n",
      "18/18 [==============================] - 0s 6ms/step - loss: 42362430671552512.0000\n",
      "Epoch 8/25\n",
      "18/18 [==============================] - 0s 6ms/step - loss: 43470781342023680.0000\n",
      "Epoch 9/25\n",
      "18/18 [==============================] - 0s 6ms/step - loss: 45126890666590208.0000\n",
      "Epoch 10/25\n",
      "18/18 [==============================] - 0s 6ms/step - loss: 41047045397544960.0000\n",
      "Epoch 11/25\n",
      "18/18 [==============================] - 0s 6ms/step - loss: 39934146356707328.0000\n",
      "Epoch 12/25\n",
      "18/18 [==============================] - 0s 6ms/step - loss: 40827873216430080.0000\n",
      "Epoch 13/25\n",
      "18/18 [==============================] - 0s 6ms/step - loss: 42949037304840192.0000\n",
      "Epoch 14/25\n",
      "18/18 [==============================] - 0s 6ms/step - loss: 40877617527652352.0000\n",
      "Epoch 15/25\n",
      "18/18 [==============================] - 0s 6ms/step - loss: 42367219560087552.0000\n",
      "Epoch 16/25\n",
      "18/18 [==============================] - 0s 6ms/step - loss: 39106897000792064.0000\n",
      "Epoch 17/25\n",
      "18/18 [==============================] - 0s 6ms/step - loss: 39579888864198656.0000\n",
      "Epoch 18/25\n",
      "18/18 [==============================] - 0s 6ms/step - loss: 40294253594673152.0000\n",
      "Epoch 19/25\n",
      "18/18 [==============================] - 0s 6ms/step - loss: 37132539189526528.0000\n",
      "Epoch 20/25\n",
      "18/18 [==============================] - 0s 6ms/step - loss: 40469578454663168.0000\n",
      "Epoch 21/25\n",
      "18/18 [==============================] - 0s 6ms/step - loss: 37813583563718656.0000\n",
      "Epoch 22/25\n",
      "18/18 [==============================] - 0s 6ms/step - loss: 38695185730764800.0000\n",
      "Epoch 23/25\n",
      "18/18 [==============================] - 0s 6ms/step - loss: 38081447789068288.0000\n",
      "Epoch 24/25\n",
      "18/18 [==============================] - 0s 7ms/step - loss: 39329548105416704.0000\n",
      "Epoch 25/25\n",
      "18/18 [==============================] - 0s 6ms/step - loss: 38772821559607296.0000\n",
      "5/5 [==============================] - 0s 7ms/step\n",
      "Epoch 1/25\n"
     ]
    },
    {
     "name": "stderr",
     "output_type": "stream",
     "text": [
      "2024-04-06 09:30:26.152205: I tensorflow/core/grappler/optimizers/custom_graph_optimizer_registry.cc:113] Plugin optimizer for device_type GPU is enabled.\n"
     ]
    },
    {
     "name": "stdout",
     "output_type": "stream",
     "text": [
      " 1/18 [>.............................] - ETA: 4s - loss: 242201881655377920.0000"
     ]
    },
    {
     "name": "stderr",
     "output_type": "stream",
     "text": [
      "2024-04-06 09:30:26.372625: I tensorflow/core/grappler/optimizers/custom_graph_optimizer_registry.cc:113] Plugin optimizer for device_type GPU is enabled.\n"
     ]
    },
    {
     "name": "stdout",
     "output_type": "stream",
     "text": [
      "18/18 [==============================] - 0s 11ms/step - loss: 172305944657526784.0000\n",
      "Epoch 2/25\n",
      "18/18 [==============================] - 0s 6ms/step - loss: 153840316883927040.0000\n",
      "Epoch 3/25\n",
      "18/18 [==============================] - 0s 6ms/step - loss: 129083446784950272.0000\n",
      "Epoch 4/25\n",
      "18/18 [==============================] - 0s 6ms/step - loss: 101544374181036032.0000\n",
      "Epoch 5/25\n",
      "18/18 [==============================] - 0s 6ms/step - loss: 78145151834259456.0000\n",
      "Epoch 6/25\n",
      "18/18 [==============================] - 0s 6ms/step - loss: 58129564852813824.0000\n",
      "Epoch 7/25\n",
      "18/18 [==============================] - 0s 6ms/step - loss: 49714766142242816.0000\n",
      "Epoch 8/25\n",
      "18/18 [==============================] - 0s 6ms/step - loss: 52109455222898688.0000\n",
      "Epoch 9/25\n",
      "18/18 [==============================] - 0s 6ms/step - loss: 46664424534048768.0000\n",
      "Epoch 10/25\n",
      "18/18 [==============================] - 0s 6ms/step - loss: 46764557401587712.0000\n",
      "Epoch 11/25\n",
      "18/18 [==============================] - 0s 6ms/step - loss: 49715573596094464.0000\n",
      "Epoch 12/25\n",
      "18/18 [==============================] - 0s 6ms/step - loss: 51897073385078784.0000\n",
      "Epoch 13/25\n",
      "18/18 [==============================] - 0s 7ms/step - loss: 46634733425131520.0000\n",
      "Epoch 14/25\n",
      "18/18 [==============================] - 0s 6ms/step - loss: 46081017651396608.0000\n",
      "Epoch 15/25\n",
      "18/18 [==============================] - 0s 6ms/step - loss: 47596733084991488.0000\n",
      "Epoch 16/25\n",
      "18/18 [==============================] - 0s 6ms/step - loss: 50787292490498048.0000\n",
      "Epoch 17/25\n",
      "18/18 [==============================] - 0s 6ms/step - loss: 47587567624781824.0000\n",
      "Epoch 18/25\n",
      "18/18 [==============================] - 0s 6ms/step - loss: 49992422893027328.0000\n",
      "Epoch 19/25\n",
      "18/18 [==============================] - 0s 6ms/step - loss: 48729161342124032.0000\n",
      "Epoch 20/25\n",
      "18/18 [==============================] - 0s 6ms/step - loss: 46248495606136832.0000\n",
      "Epoch 21/25\n",
      "18/18 [==============================] - 0s 6ms/step - loss: 48521190435717120.0000\n",
      "Epoch 22/25\n",
      "18/18 [==============================] - 0s 6ms/step - loss: 47818495131385856.0000\n",
      "Epoch 23/25\n",
      "18/18 [==============================] - 0s 6ms/step - loss: 44631985880039424.0000\n",
      "Epoch 24/25\n",
      "18/18 [==============================] - 0s 6ms/step - loss: 46583348436402176.0000\n",
      "Epoch 25/25\n",
      "18/18 [==============================] - 0s 6ms/step - loss: 50550936145231872.0000\n",
      "5/5 [==============================] - 0s 5ms/step\n",
      "Epoch 1/25\n"
     ]
    },
    {
     "name": "stderr",
     "output_type": "stream",
     "text": [
      "2024-04-06 09:30:29.387483: I tensorflow/core/grappler/optimizers/custom_graph_optimizer_registry.cc:113] Plugin optimizer for device_type GPU is enabled.\n"
     ]
    },
    {
     "name": "stdout",
     "output_type": "stream",
     "text": [
      " 1/18 [>.............................] - ETA: 4s - loss: 225125761701380096.0000"
     ]
    },
    {
     "name": "stderr",
     "output_type": "stream",
     "text": [
      "2024-04-06 09:30:29.594126: I tensorflow/core/grappler/optimizers/custom_graph_optimizer_registry.cc:113] Plugin optimizer for device_type GPU is enabled.\n"
     ]
    },
    {
     "name": "stdout",
     "output_type": "stream",
     "text": [
      "18/18 [==============================] - 0s 12ms/step - loss: 147062446173978624.0000\n",
      "Epoch 2/25\n",
      "18/18 [==============================] - 0s 7ms/step - loss: 128707662916354048.0000\n",
      "Epoch 3/25\n",
      "18/18 [==============================] - 0s 6ms/step - loss: 105308913015980032.0000\n",
      "Epoch 4/25\n",
      "18/18 [==============================] - 0s 6ms/step - loss: 80923858235817984.0000\n",
      "Epoch 5/25\n",
      "18/18 [==============================] - 0s 6ms/step - loss: 59519588068491264.0000\n",
      "Epoch 6/25\n",
      "18/18 [==============================] - 0s 6ms/step - loss: 48646294243115008.0000\n",
      "Epoch 7/25\n",
      "18/18 [==============================] - 0s 6ms/step - loss: 43473573070766080.0000\n",
      "Epoch 8/25\n",
      "18/18 [==============================] - 0s 6ms/step - loss: 40716702282940416.0000\n",
      "Epoch 9/25\n",
      "18/18 [==============================] - 0s 6ms/step - loss: 39058673107992576.0000\n",
      "Epoch 10/25\n",
      "18/18 [==============================] - 0s 6ms/step - loss: 36379558408093696.0000\n",
      "Epoch 11/25\n",
      "18/18 [==============================] - 0s 6ms/step - loss: 37904340517650432.0000\n",
      "Epoch 12/25\n",
      "18/18 [==============================] - 0s 6ms/step - loss: 38220617614360576.0000\n",
      "Epoch 13/25\n",
      "18/18 [==============================] - 0s 6ms/step - loss: 38791650696232960.0000\n",
      "Epoch 14/25\n",
      "18/18 [==============================] - 0s 6ms/step - loss: 40530214802948096.0000\n",
      "Epoch 15/25\n",
      "18/18 [==============================] - 0s 6ms/step - loss: 37017726123769856.0000\n",
      "Epoch 16/25\n",
      "18/18 [==============================] - 0s 6ms/step - loss: 38230551873716224.0000\n",
      "Epoch 17/25\n",
      "18/18 [==============================] - 0s 6ms/step - loss: 39491313753653248.0000\n",
      "Epoch 18/25\n",
      "18/18 [==============================] - 0s 6ms/step - loss: 38663896894013440.0000\n",
      "Epoch 19/25\n",
      "18/18 [==============================] - 0s 6ms/step - loss: 35726946717401088.0000\n",
      "Epoch 20/25\n",
      "18/18 [==============================] - 0s 7ms/step - loss: 38242161170317312.0000\n",
      "Epoch 21/25\n",
      "18/18 [==============================] - 0s 6ms/step - loss: 39740842763616256.0000\n",
      "Epoch 22/25\n",
      "18/18 [==============================] - 0s 6ms/step - loss: 37926687232491520.0000\n",
      "Epoch 23/25\n",
      "18/18 [==============================] - 0s 6ms/step - loss: 38144708362371072.0000\n",
      "Epoch 24/25\n",
      "18/18 [==============================] - 0s 6ms/step - loss: 35567717247352832.0000\n",
      "Epoch 25/25\n",
      "18/18 [==============================] - 0s 6ms/step - loss: 36493181767909376.0000\n",
      "5/5 [==============================] - 0s 5ms/step\n",
      "Epoch 1/25\n"
     ]
    },
    {
     "name": "stderr",
     "output_type": "stream",
     "text": [
      "2024-04-06 09:30:32.656933: I tensorflow/core/grappler/optimizers/custom_graph_optimizer_registry.cc:113] Plugin optimizer for device_type GPU is enabled.\n"
     ]
    },
    {
     "name": "stdout",
     "output_type": "stream",
     "text": [
      " 1/18 [>.............................] - ETA: 5s - loss: 149649322156228608.0000"
     ]
    },
    {
     "name": "stderr",
     "output_type": "stream",
     "text": [
      "2024-04-06 09:30:32.865094: I tensorflow/core/grappler/optimizers/custom_graph_optimizer_registry.cc:113] Plugin optimizer for device_type GPU is enabled.\n"
     ]
    },
    {
     "name": "stdout",
     "output_type": "stream",
     "text": [
      "18/18 [==============================] - 1s 12ms/step - loss: 157715683054977024.0000\n",
      "Epoch 2/25\n",
      "18/18 [==============================] - 0s 6ms/step - loss: 139096630459629568.0000\n",
      "Epoch 3/25\n",
      "18/18 [==============================] - 0s 6ms/step - loss: 116416849494671360.0000\n",
      "Epoch 4/25\n",
      "18/18 [==============================] - 0s 6ms/step - loss: 92549278144135168.0000\n",
      "Epoch 5/25\n",
      "18/18 [==============================] - 0s 6ms/step - loss: 71582828353028096.0000\n",
      "Epoch 6/25\n",
      "18/18 [==============================] - 0s 6ms/step - loss: 52064499800211456.0000\n",
      "Epoch 7/25\n",
      "18/18 [==============================] - 0s 6ms/step - loss: 48498465763753984.0000\n",
      "Epoch 8/25\n",
      "18/18 [==============================] - 0s 7ms/step - loss: 42937380763598848.0000\n",
      "Epoch 9/25\n",
      "18/18 [==============================] - 0s 6ms/step - loss: 48877904649519104.0000\n",
      "Epoch 10/25\n",
      "18/18 [==============================] - 0s 6ms/step - loss: 47244146334760960.0000\n",
      "Epoch 11/25\n",
      "18/18 [==============================] - 0s 6ms/step - loss: 42444520381480960.0000\n",
      "Epoch 12/25\n",
      "18/18 [==============================] - 0s 6ms/step - loss: 44227868112191488.0000\n",
      "Epoch 13/25\n",
      "18/18 [==============================] - 0s 6ms/step - loss: 45160790843457536.0000\n",
      "Epoch 14/25\n",
      "18/18 [==============================] - 0s 6ms/step - loss: 42731222333390848.0000\n",
      "Epoch 15/25\n",
      "18/18 [==============================] - 0s 6ms/step - loss: 44625315795828736.0000\n",
      "Epoch 16/25\n",
      "18/18 [==============================] - 0s 6ms/step - loss: 43668706319925248.0000\n",
      "Epoch 17/25\n",
      "18/18 [==============================] - 0s 6ms/step - loss: 45246642944737280.0000\n",
      "Epoch 18/25\n",
      "18/18 [==============================] - 0s 6ms/step - loss: 45175393732263936.0000\n",
      "Epoch 19/25\n",
      "18/18 [==============================] - 0s 6ms/step - loss: 44664412883124224.0000\n",
      "Epoch 20/25\n",
      "18/18 [==============================] - 0s 6ms/step - loss: 42100540745711616.0000\n",
      "Epoch 21/25\n",
      "18/18 [==============================] - 0s 6ms/step - loss: 44157589562327040.0000\n",
      "Epoch 22/25\n",
      "18/18 [==============================] - 0s 6ms/step - loss: 45530454383656960.0000\n",
      "Epoch 23/25\n",
      "18/18 [==============================] - 0s 6ms/step - loss: 44156069143904256.0000\n",
      "Epoch 24/25\n",
      "18/18 [==============================] - 0s 6ms/step - loss: 42137520414130176.0000\n",
      "Epoch 25/25\n",
      "18/18 [==============================] - 0s 6ms/step - loss: 47682250178822144.0000\n",
      "5/5 [==============================] - 0s 5ms/step\n"
     ]
    },
    {
     "name": "stderr",
     "output_type": "stream",
     "text": [
      "2024-04-06 09:30:35.947267: I tensorflow/core/grappler/optimizers/custom_graph_optimizer_registry.cc:113] Plugin optimizer for device_type GPU is enabled.\n"
     ]
    },
    {
     "name": "stdout",
     "output_type": "stream",
     "text": [
      "Epoch 1/25\n",
      " 1/18 [>.............................] - ETA: 5s - loss: 112925702507986944.0000"
     ]
    },
    {
     "name": "stderr",
     "output_type": "stream",
     "text": [
      "2024-04-06 09:30:36.407556: I tensorflow/core/grappler/optimizers/custom_graph_optimizer_registry.cc:113] Plugin optimizer for device_type GPU is enabled.\n"
     ]
    },
    {
     "name": "stdout",
     "output_type": "stream",
     "text": [
      "18/18 [==============================] - 1s 11ms/step - loss: 154370384567730176.0000\n",
      "Epoch 2/25\n",
      "18/18 [==============================] - 0s 6ms/step - loss: 136463394600386560.0000\n",
      "Epoch 3/25\n",
      "18/18 [==============================] - 0s 6ms/step - loss: 114572358609534976.0000\n",
      "Epoch 4/25\n",
      "18/18 [==============================] - 0s 6ms/step - loss: 87313764549918720.0000\n",
      "Epoch 5/25\n",
      "18/18 [==============================] - 0s 6ms/step - loss: 64344008867971072.0000\n",
      "Epoch 6/25\n",
      "18/18 [==============================] - 0s 6ms/step - loss: 49635880477917184.0000\n",
      "Epoch 7/25\n",
      "18/18 [==============================] - 0s 6ms/step - loss: 43531825712201728.0000\n",
      "Epoch 8/25\n",
      "18/18 [==============================] - 0s 6ms/step - loss: 42310190984331264.0000\n",
      "Epoch 9/25\n",
      "18/18 [==============================] - 0s 6ms/step - loss: 42558264000380928.0000\n",
      "Epoch 10/25\n",
      "18/18 [==============================] - 0s 6ms/step - loss: 38899437195493376.0000\n",
      "Epoch 11/25\n",
      "18/18 [==============================] - 0s 6ms/step - loss: 43654575877521408.0000\n",
      "Epoch 12/25\n",
      "18/18 [==============================] - 0s 6ms/step - loss: 42307193097158656.0000\n",
      "Epoch 13/25\n",
      "18/18 [==============================] - 0s 6ms/step - loss: 39410357915090944.0000\n",
      "Epoch 14/25\n",
      "18/18 [==============================] - 0s 7ms/step - loss: 43871510380675072.0000\n",
      "Epoch 15/25\n",
      "18/18 [==============================] - 0s 6ms/step - loss: 40039789667287040.0000\n",
      "Epoch 16/25\n",
      "18/18 [==============================] - 0s 6ms/step - loss: 40445341954211840.0000\n",
      "Epoch 17/25\n",
      "18/18 [==============================] - 0s 6ms/step - loss: 42592576494108672.0000\n",
      "Epoch 18/25\n",
      "18/18 [==============================] - 0s 6ms/step - loss: 41098782573592576.0000\n",
      "Epoch 19/25\n",
      "18/18 [==============================] - 0s 6ms/step - loss: 40604066765602816.0000\n",
      "Epoch 20/25\n",
      "18/18 [==============================] - 0s 6ms/step - loss: 39629972477837312.0000\n",
      "Epoch 21/25\n",
      "18/18 [==============================] - 0s 6ms/step - loss: 36619969202487296.0000\n",
      "Epoch 22/25\n",
      "18/18 [==============================] - 0s 6ms/step - loss: 38500335949447168.0000\n",
      "Epoch 23/25\n",
      "18/18 [==============================] - 0s 6ms/step - loss: 37393278064132096.0000\n",
      "Epoch 24/25\n",
      "18/18 [==============================] - 0s 6ms/step - loss: 38381678887960576.0000\n",
      "Epoch 25/25\n",
      "18/18 [==============================] - 0s 6ms/step - loss: 39720871165689856.0000\n",
      "5/5 [==============================] - 0s 5ms/step\n",
      "[91.36919497752639, 65.12789379737694, 89.53285387676371, 69.93432459967217, 94.09542293810402]\n"
     ]
    },
    {
     "name": "stderr",
     "output_type": "stream",
     "text": [
      "2024-04-06 09:30:39.489375: I tensorflow/core/grappler/optimizers/custom_graph_optimizer_registry.cc:113] Plugin optimizer for device_type GPU is enabled.\n"
     ]
    }
   ],
   "source": [
    "X = movies[['budget', 'runtime', 'release_date', 'popularity']]\n",
    "y = movies['revenue']\n",
    "\n",
    "from sklearn.model_selection import train_test_split\n",
    "import tensorflow as tf\n",
    "from tensorflow import keras\n",
    "from tensorflow.keras import Sequential \n",
    "from tensorflow.keras.layers import Dense\n",
    "from tensorflow.keras.layers import Dropout\n",
    "from sklearn.metrics import mean_squared_error\n",
    "from sklearn.model_selection import KFold\n",
    "from sklearn.metrics import roc_curve\n",
    "\n",
    "X_train, X_test, y_train, y_test = train_test_split(X, y, test_size=0.2, random_state=42)\n",
    "\n",
    "kfold = KFold(n_splits=5)\n",
    "\n",
    "results = []\n",
    "for train, test in kfold.split(X):\n",
    "    model = Sequential()\n",
    "    model.add(Dense(64, input_dim=4, activation='relu'))\n",
    "    model.add(Dropout(0.2))\n",
    "    model.add(Dense(32, activation='relu'))\n",
    "    model.add(Dropout(0.2))\n",
    "    model.add(Dense(1))\n",
    "    model.compile(loss='mean_squared_error', optimizer='adam')\n",
    "    model.fit(X.iloc[train], y.iloc[train], epochs=25, batch_size=32)\n",
    "    y_pred = model.predict(X.iloc[test])\n",
    "    mse = mean_squared_error(y.iloc[test], y_pred)\n",
    "    rmse = np.sqrt(mse)\n",
    "    rmse = (rmse / np.mean(y.iloc[test])) * 100\n",
    "    results.append(rmse)\n",
    "\n",
    "print(results)"
   ]
  },
  {
   "cell_type": "code",
   "execution_count": 7,
   "metadata": {},
   "outputs": [
    {
     "name": "stdout",
     "output_type": "stream",
     "text": [
      "Model: \"sequential_4\"\n",
      "_________________________________________________________________\n",
      " Layer (type)                Output Shape              Param #   \n",
      "=================================================================\n",
      " dense_12 (Dense)            (None, 64)                320       \n",
      "                                                                 \n",
      " dropout_8 (Dropout)         (None, 64)                0         \n",
      "                                                                 \n",
      " dense_13 (Dense)            (None, 32)                2080      \n",
      "                                                                 \n",
      " dropout_9 (Dropout)         (None, 32)                0         \n",
      "                                                                 \n",
      " dense_14 (Dense)            (None, 1)                 33        \n",
      "                                                                 \n",
      "=================================================================\n",
      "Total params: 2,433\n",
      "Trainable params: 2,433\n",
      "Non-trainable params: 0\n",
      "_________________________________________________________________\n"
     ]
    }
   ],
   "source": [
    "# Param count\n",
    "model.summary()\n"
   ]
  },
  {
   "cell_type": "code",
   "execution_count": 8,
   "metadata": {},
   "outputs": [
    {
     "data": {
      "text/plain": [
       "Text(0, 0.5, 'Percentage Error')"
      ]
     },
     "execution_count": 8,
     "metadata": {},
     "output_type": "execute_result"
    },
    {
     "data": {
      "image/png": "[encoded data removed]",
      "text/plain": [
       "<Figure size 432x288 with 1 Axes>"
      ]
     },
     "metadata": {
      "needs_background": "light"
     },
     "output_type": "display_data"
    }
   ],
   "source": [
    "# Plot the results\n",
    "plt.plot(results)\n",
    "plt.xlabel(\"Fold\")\n",
    "plt.ylabel(\"Percentage Error\")"
   ]
  },
  {
   "cell_type": "code",
   "execution_count": null,
   "metadata": {},
   "outputs": [],
   "source": []
  }
 ],
 "metadata": {
  "kernelspec": {
   "display_name": "tf",
   "language": "python",
   "name": "python3"
  },
  "language_info": {
   "codemirror_mode": {
    "name": "ipython",
    "version": 3
   },
   "file_extension": ".py",
   "mimetype": "text/x-python",
   "name": "python",
   "nbconvert_exporter": "python",
   "pygments_lexer": "ipython3",
   "version": "3.10.4"
  }
 },
 "nbformat": 4,
 "nbformat_minor": 2
}
